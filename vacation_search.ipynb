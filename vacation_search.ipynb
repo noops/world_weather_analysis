{
 "cells": [
  {
   "cell_type": "code",
   "execution_count": 176,
   "metadata": {},
   "outputs": [],
   "source": [
    "#dependencies\n",
    "import pandas as pd \n",
    "import gmaps\n",
    "import requests\n",
    "import matplotlib.pyplot as plt \n",
    "from config import g_key"
   ]
  },
  {
   "cell_type": "code",
   "execution_count": 177,
   "metadata": {},
   "outputs": [],
   "source": [
    "#read in csv file and convert to dataFrame\n",
    "weatherDF = pd.read_csv(\"weather_data/weather_database.csv\")\n",
    "#configure gmaps to use my google api key\n",
    "gmaps.configure(api_key=g_key)"
   ]
  },
  {
   "cell_type": "code",
   "execution_count": 178,
   "metadata": {},
   "outputs": [],
   "source": [
    "#retrieve customer preferences\n",
    "custMinTemp = float(input(\"What is the minimum temperature you would like for your trip? \"))\n",
    "custMaxTemp = float(input(\"What is the maximum temperature you would like for your trip? \"))\n",
    "custRainPref = input(\"Do you want it to be raining? (yes/no) \")\n",
    "custSnowPref = input(\"Do you want it to be snowing? (yes/no) \")"
   ]
  },
  {
   "cell_type": "code",
   "execution_count": 179,
   "metadata": {
    "tags": []
   },
   "outputs": [],
   "source": [
    "#filter dataframe based on customer inputs\n",
    "prefCityDF = weatherDF.loc[(weatherDF[\"Max Temp\"] <= custMaxTemp) & (weatherDF[\"Max Temp\"] >=custMinTemp)]\n",
    "\n",
    "if custRainPref ==\"yes\":\n",
    "    prefCityDF = prefCityDF[prefCityDF[\"Rain (inches)\"] !=0]\n",
    "else:\n",
    "    prefCityDF = prefCityDF[prefCityDF[\"Rain (inches)\"] ==0]\n",
    "if custSnowPref == \"yes\":\n",
    "    prefCityDF = prefCityDF[prefCityDF[\"Snow (inches)\"] !=0]\n",
    "else:\n",
    "    prefCityDF = prefCityDF[prefCityDF[\"Snow (inches)\"] ==0]"
   ]
  },
  {
   "cell_type": "code",
   "execution_count": 180,
   "metadata": {},
   "outputs": [],
   "source": [
    "#create hotel name column\n",
    "prefCityDF[\"Hotel Name\"] = \"\""
   ]
  },
  {
   "cell_type": "code",
   "execution_count": 181,
   "metadata": {
    "tags": []
   },
   "outputs": [
    {
     "output_type": "stream",
     "name": "stdout",
     "text": "Hotel not found... skipping\nHotel not found... skipping\nHotel not found... skipping\nHotel not found... skipping\nHotel not found... skipping\nHotel not found... skipping\nHotel not found... skipping\nHotel not found... skipping\nHotel not found... skipping\nHotel not found... skipping\nHotel not found... skipping\nHotel not found... skipping\nHotel not found... skipping\nHotel not found... skipping\nHotel not found... skipping\nHotel not found... skipping\nHotel not found... skipping\n"
    }
   ],
   "source": [
    "#hotel search parameters\n",
    "params = {\"radius\": 5000, \"type\":\"lodging\", \"key\":g_key}\n",
    "#iterate thru the dataframe\n",
    "for index, row in prefCityDF.iterrows():\n",
    "    #get lat and lng\n",
    "    lat = row[\"Lat\"]\n",
    "    lng = row[\"Lng\"]\n",
    "    #add lat and lng to location key for params dict\n",
    "    params[\"location\"] = f\"{lat},{lng}\"\n",
    "    #use search term lodging and lat and lng\n",
    "    base_url = \"https://maps.googleapis.com/maps/api/place/nearbysearch/json\"\n",
    "    #make request and get the json data from search\n",
    "    hotels = requests.get(base_url, params=params).json()\n",
    "    #grab first hotel from the results and store the name\n",
    "    try:\n",
    "        prefCityDF.loc[index, \"Hotel Name\"] = hotels[\"results\"][0][\"name\"]\n",
    "    except(IndexError):\n",
    "        print(\"Hotel not found... skipping\")\n"
   ]
  },
  {
   "cell_type": "code",
   "execution_count": 182,
   "metadata": {},
   "outputs": [],
   "source": [
    "info_box_template = \"\"\"\n",
    "<dl>\n",
    "<dt>Hotel Name</dt><dd>{Hotel Name}</dd>\n",
    "<dt>City</dt><dd>{City}</dd>\n",
    "<dt>Country</dt><dd>{Country}</dd>\n",
    "<dt>Current Weather</dt><dd>{Current Description}</dd>\n",
    "</dl>\n",
    "\"\"\""
   ]
  },
  {
   "cell_type": "code",
   "execution_count": 183,
   "metadata": {},
   "outputs": [],
   "source": [
    "# Store the DataFrame Row.\n",
    "hotel_info = [info_box_template.format(**row) for index, row in prefCityDF.iterrows()]"
   ]
  },
  {
   "cell_type": "code",
   "execution_count": 184,
   "metadata": {},
   "outputs": [
    {
     "output_type": "display_data",
     "data": {
      "text/plain": "Figure(layout=FigureLayout(height='420px'))",
      "application/vnd.jupyter.widget-view+json": {
       "version_major": 2,
       "version_minor": 0,
       "model_id": "6673a44fe7c24823a774b919b435dba8"
      }
     },
     "metadata": {}
    }
   ],
   "source": [
    "# add a heatmap of temp for vacation spots\n",
    "locations = prefCityDF[[\"Lat\", \"Lng\"]]\n",
    "fig = gmaps.figure(center=(30.0,31.0), zoom_level=1.5)\n",
    "marker_layer = gmaps.marker_layer(locations, info_box_content=hotel_info)\n",
    "fig.add_layer(marker_layer)\n",
    "fig\n",
    "\n"
   ]
  },
  {
   "cell_type": "code",
   "execution_count": 185,
   "metadata": {},
   "outputs": [],
   "source": [
    "#create output file (csv)\n",
    "output_data_file = \"weather_data/weatherPy_vacation.csv\"\n",
    "#export city_data into a csv\n",
    "prefCityDF.to_csv(output_data_file, index_label=\"City_ID\")"
   ]
  },
  {
   "cell_type": "code",
   "execution_count": null,
   "metadata": {},
   "outputs": [],
   "source": []
  }
 ],
 "metadata": {
  "language_info": {
   "codemirror_mode": {
    "name": "ipython",
    "version": 3
   },
   "file_extension": ".py",
   "mimetype": "text/x-python",
   "name": "python",
   "nbconvert_exporter": "python",
   "pygments_lexer": "ipython3",
   "version": 3
  },
  "orig_nbformat": 2,
  "kernelspec": {
   "name": "python_defaultSpec_1594398374715",
   "display_name": "Python 3.7.7 64-bit ('PythonData': conda)"
  }
 },
 "nbformat": 4,
 "nbformat_minor": 2
}