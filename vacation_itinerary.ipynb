{
 "cells": [
  {
   "cell_type": "code",
   "execution_count": null,
   "metadata": {},
   "outputs": [],
   "source": [
    "#dependencies\n",
    "import pandas as pd \n",
    "import gmaps\n",
    "import gmaps.datasets\n",
    "import requests\n",
    "import numpy as np \n",
    "from config import g_key"
   ]
  },
  {
   "cell_type": "code",
   "execution_count": null,
   "metadata": {},
   "outputs": [],
   "source": [
    "vacationDF = pd.read_csv(\"weather_data/weatherPy_vacation.csv\")\n",
    "#clean up vacationDF\n",
    "vacationDF = vacationDF.drop(columns=[\"City_ID.1\",\"Humidity\", \"Cloudiness\", \"Wind Speed\", \"Rain (inches)\", \"Snow (inches)\"])\n",
    "#sort vacationDF to find cities that are close to one another for travel itinerary\n",
    "sortedDF = vacationDF.sort_values([\"Lat\", \"Lng\"])\n",
    "#configure gmaps to use my google api key\n",
    "gmaps.configure(api_key=g_key)"
   ]
  },
  {
   "cell_type": "code",
   "execution_count": 23,
   "metadata": {},
   "outputs": [],
   "source": [
    "#create dataFrames for cities that are close to one another. Chose cities close to each other in Brazil\n",
    "city1DF = sortedDF.loc[(sortedDF[\"City\"]==\"Arraial Do Cabo\")]\n",
    "city2DF = sortedDF.loc[(sortedDF[\"City\"]==\"Sao Joao Da Barra\")]\n",
    "city3DF = sortedDF.loc[(sortedDF[\"City\"]==\"Vila Velha\")]\n",
    "city4DF = sortedDF.loc[(sortedDF[\"City\"]==\"Caravelas\")]\n",
    "#get lat and lng pairs from each  dataframe as a tuple\n",
    "city1 = tuple(city1DF.to_numpy()[0][3:5])\n",
    "city2 = tuple(city2DF.to_numpy()[0][3:5])\n",
    "city3 = tuple(city3DF.to_numpy()[0][3:5])\n",
    "city4 = tuple(city4DF.to_numpy()[0][3:5])"
   ]
  },
  {
   "cell_type": "code",
   "execution_count": 20,
   "metadata": {},
   "outputs": [
    {
     "output_type": "execute_result",
     "data": {
      "text/plain": "     City_ID               City Country    Lat    Lng  Max Temp  \\\n10        40    Arraial Do Cabo      BR -22.97 -42.03     71.60   \n181      448  Sao Joao Da Barra      BR -21.64 -41.05     71.29   \n11        42         Vila Velha      BR -20.33 -40.29     75.20   \n219      542          Caravelas      BR -17.71 -39.25     71.37   \n\n    Current Description               Hotel Name  \n10        broken clouds      Pousada Porto Praia  \n181           clear sky  Pousada Porto De Canoas  \n11            clear sky     Hotel Vitória Palace  \n219           clear sky   Pousada dos Navegantes  ",
      "text/html": "<div>\n<style scoped>\n    .dataframe tbody tr th:only-of-type {\n        vertical-align: middle;\n    }\n\n    .dataframe tbody tr th {\n        vertical-align: top;\n    }\n\n    .dataframe thead th {\n        text-align: right;\n    }\n</style>\n<table border=\"1\" class=\"dataframe\">\n  <thead>\n    <tr style=\"text-align: right;\">\n      <th></th>\n      <th>City_ID</th>\n      <th>City</th>\n      <th>Country</th>\n      <th>Lat</th>\n      <th>Lng</th>\n      <th>Max Temp</th>\n      <th>Current Description</th>\n      <th>Hotel Name</th>\n    </tr>\n  </thead>\n  <tbody>\n    <tr>\n      <th>10</th>\n      <td>40</td>\n      <td>Arraial Do Cabo</td>\n      <td>BR</td>\n      <td>-22.97</td>\n      <td>-42.03</td>\n      <td>71.60</td>\n      <td>broken clouds</td>\n      <td>Pousada Porto Praia</td>\n    </tr>\n    <tr>\n      <th>181</th>\n      <td>448</td>\n      <td>Sao Joao Da Barra</td>\n      <td>BR</td>\n      <td>-21.64</td>\n      <td>-41.05</td>\n      <td>71.29</td>\n      <td>clear sky</td>\n      <td>Pousada Porto De Canoas</td>\n    </tr>\n    <tr>\n      <th>11</th>\n      <td>42</td>\n      <td>Vila Velha</td>\n      <td>BR</td>\n      <td>-20.33</td>\n      <td>-40.29</td>\n      <td>75.20</td>\n      <td>clear sky</td>\n      <td>Hotel Vitória Palace</td>\n    </tr>\n    <tr>\n      <th>219</th>\n      <td>542</td>\n      <td>Caravelas</td>\n      <td>BR</td>\n      <td>-17.71</td>\n      <td>-39.25</td>\n      <td>71.37</td>\n      <td>clear sky</td>\n      <td>Pousada dos Navegantes</td>\n    </tr>\n  </tbody>\n</table>\n</div>"
     },
     "metadata": {},
     "execution_count": 20
    }
   ],
   "source": [
    "#create a new dataFrame containing the cities in our itinerary\n",
    "itineraryDF = pd.concat([city1DF,city2DF,city3DF,city4DF])\n",
    "itineraryDF"
   ]
  },
  {
   "cell_type": "code",
   "execution_count": null,
   "metadata": {},
   "outputs": [],
   "source": [
    "#html info for textbox \n",
    "info_box_template = \"\"\"\n",
    "<dl>\n",
    "<dt>Hotel Name</dt><dd>{Hotel Name}</dd>\n",
    "<dt>City</dt><dd>{City}</dd>\n",
    "<dt>Country</dt><dd>{Country}</dd>\n",
    "<dt>Current Weather</dt><dd>{Current Description}</dd>\n",
    "<dt>Max Temp</dt><dd>{Max Temp}°F</dd>\n",
    "</dl>\n",
    "\"\"\"\n",
    "# Store the DataFrame Row.\n",
    "hotel_info = [info_box_template.format(**row) for index, row in itineraryDF.iterrows()]"
   ]
  },
  {
   "cell_type": "code",
   "execution_count": 33,
   "metadata": {
    "tags": []
   },
   "outputs": [
    {
     "output_type": "display_data",
     "data": {
      "text/plain": "Figure(layout=FigureLayout(height='420px'))",
      "application/vnd.jupyter.widget-view+json": {
       "version_major": 2,
       "version_minor": 0,
       "model_id": "bb02ec1b76094d218fb7ed407111ddbc"
      }
     },
     "metadata": {}
    }
   ],
   "source": [
    "# add a heatmap of temp for vacation spots\n",
    "#use itineraryDF to create locations variable\n",
    "locations = itineraryDF[[\"Lat\", \"Lng\"]]\n",
    "fig = gmaps.figure(center=(30.0,31.0), zoom_level=1.5)\n",
    "#use tuples as lat,lng pairs \n",
    "travelRoute = gmaps.directions_layer(city1, city4, waypoints=[city2,city3], travel_mode='DRIVING', show_markers=False)\n",
    "marker_layer = gmaps.marker_layer(locations, info_box_content=hotel_info)\n",
    "\n",
    "fig.add_layer(travelRoute)\n",
    "fig.add_layer(marker_layer)\n",
    "fig"
   ]
  },
  {
   "cell_type": "code",
   "execution_count": null,
   "metadata": {},
   "outputs": [],
   "source": []
  }
 ],
 "metadata": {
  "language_info": {
   "codemirror_mode": {
    "name": "ipython",
    "version": 3
   },
   "file_extension": ".py",
   "mimetype": "text/x-python",
   "name": "python",
   "nbconvert_exporter": "python",
   "pygments_lexer": "ipython3",
   "version": 3
  },
  "orig_nbformat": 2,
  "kernelspec": {
   "name": "python_defaultSpec_1594484378922",
   "display_name": "Python 3.7.7 64-bit ('PythonData': conda)"
  }
 },
 "nbformat": 4,
 "nbformat_minor": 2
}