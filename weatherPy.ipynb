{
 "cells": [
  {
   "cell_type": "code",
   "execution_count": null,
   "metadata": {},
   "outputs": [],
   "source": [
    "#dependencies\n",
    "import pandas as pd \n",
    "import numpy as np \n",
    "import matplotlib.pyplot as plt \n",
    "import time\n",
    "import requests\n",
    "from config import weather_api_key\n",
    "from datetime import datetime\n",
    "from citipy import citipy\n",
    "from scipy.stats import linregress\n"
   ]
  },
  {
   "cell_type": "code",
   "execution_count": null,
   "metadata": {
    "tags": []
   },
   "outputs": [],
   "source": [
    "# create a set of random latitude and longitude combinations\n",
    "lats = np.random.uniform(low=-90.000, high=90.000,size=1500)\n",
    "lngs = np.random.uniform(low=-180.000, high=180.000,size=1500)\n",
    "lats_lngs = zip(lats, lngs)"
   ]
  },
  {
   "cell_type": "code",
   "execution_count": null,
   "metadata": {},
   "outputs": [],
   "source": [
    "# add latitudes and longitudes to a list\n",
    "coordinates = list(lats_lngs)"
   ]
  },
  {
   "cell_type": "code",
   "execution_count": null,
   "metadata": {},
   "outputs": [],
   "source": [
    "#create a list for holding the cities\n",
    "cities = []\n",
    "#identify nearest city for each lat, lng combo\n",
    "for coordinate in coordinates:\n",
    "    city = citipy.nearest_city(coordinate[0], coordinate[1]).city_name\n",
    "\n",
    "    #if the city is unique then it will be added to cities list\n",
    "    if city not in cities:\n",
    "        cities.append(city)\n",
    "len(cities)"
   ]
  },
  {
   "cell_type": "code",
   "execution_count": null,
   "metadata": {
    "tags": []
   },
   "outputs": [],
   "source": [
    "# Starting URL for Weather Map API Call.\n",
    "url = \"http://api.openweathermap.org/data/2.5/weather?units=Imperial&APPID=\" + weather_api_key"
   ]
  },
  {
   "cell_type": "code",
   "execution_count": null,
   "metadata": {
    "tags": [
     "outputPrepend"
    ]
   },
   "outputs": [],
   "source": [
    "#create an empty list to hold weather data\n",
    "city_data = []\n",
    "#print beginning of data retrieval\n",
    "print(\"Beginning of Data Retrieval\")\n",
    "print(\"---------------------------\")\n",
    "#create counters\n",
    "record_count = 1\n",
    "set_count = 1\n",
    "\n",
    "#loop through list of cities and build city url\n",
    "for i, city in enumerate(cities):\n",
    "    #group cities in sets of 50 for tracking \n",
    "    if(i % 50 == 0 and i >= 50):\n",
    "        set_count += 1\n",
    "        record_count = 1\n",
    "    #create city url\n",
    "    city_url = url + \"&q=\" + city.replace(\" \",\"+\")\n",
    "    #log url, record numbers and city\n",
    "    print(f\"Processing Record {record_count} of Set {set_count} | {city}\")\n",
    "    # add 1 to the record count\n",
    "    record_count += 1\n",
    "    \n",
    "    #run api request for each city\n",
    "    try:\n",
    "        #parse json and retrieve data\n",
    "        city_weather = requests.get(city_url).json()\n",
    "        #parse needed data\n",
    "        city_lat = city_weather[\"coord\"][\"lat\"]\n",
    "        city_lng = city_weather[\"coord\"][\"lon\"]\n",
    "        city_max_temp = city_weather[\"main\"][\"temp_max\"]\n",
    "        city_humidity = city_weather[\"main\"][\"humidity\"]\n",
    "        city_clouds= city_weather[\"clouds\"][\"all\"]\n",
    "        city_wind = city_weather[\"wind\"][\"speed\"]\n",
    "        city_country = city_weather[\"sys\"][\"country\"]\n",
    "        #convert date to ISO standard\n",
    "        city_date = datetime.utcfromtimestamp(city_weather[\"dt\"]).strftime('%Y-%m-%d %H:%M:%S')\n",
    "        #append city info into city_data list\n",
    "        city_data.append({\"City\": city.title(),\n",
    "                          \"Lat\": city_lat,\n",
    "                          \"Lng\": city_lng,\n",
    "                          \"Max Temp\": city_max_temp,\n",
    "                          \"Humidity\": city_humidity,\n",
    "                          \"Cloudiness\": city_clouds,\n",
    "                          \"Wind Speed\": city_wind,\n",
    "                          \"Country\": city_country,\n",
    "                          \"Date\": city_date})\n",
    "    #if an error is encountered skip the city\n",
    "    except:\n",
    "        print(\"City not found. Skipping...\")\n",
    "        pass\n",
    "print(\"-----------------------\")\n",
    "print(\"Data Retrieval Complete\")\n",
    "print(\"-----------------------\")\n"
   ]
  },
  {
   "cell_type": "code",
   "execution_count": null,
   "metadata": {},
   "outputs": [],
   "source": [
    "#create dataframe from list of dictionaries\n",
    "city_data_df = pd.DataFrame(city_data)\n"
   ]
  },
  {
   "cell_type": "code",
   "execution_count": null,
   "metadata": {},
   "outputs": [],
   "source": [
    "#re-order column titles \n",
    "new_column_order = [\"City\", \"Country\", \"Date\", \"Lat\", \"Lng\", \"Max Temp\", \"Humidity\", \"Cloudiness\", \"Wind Speed\"]\n",
    "city_data_df = city_data_df[new_column_order]\n",
    "city_data_df.head(10)"
   ]
  },
  {
   "cell_type": "code",
   "execution_count": null,
   "metadata": {},
   "outputs": [],
   "source": [
    "#create output file (csv)\n",
    "output_data_file = \"weather_data/cities.csv\"\n",
    "#export city_data into a csv\n",
    "city_data_df.to_csv(output_data_file, index_label=\"City_ID\")"
   ]
  },
  {
   "cell_type": "code",
   "execution_count": null,
   "metadata": {},
   "outputs": [],
   "source": [
    "#extract relevant fields from dataframe for plotting\n",
    "lats = city_data_df[\"Lat\"]\n",
    "max_temps = city_data_df[\"Max Temp\"]\n",
    "humidity = city_data_df[\"Humidity\"]\n",
    "cloudiness = city_data_df[\"Cloudiness\"]\n",
    "wind_speed = city_data_df[\"Wind Speed\"]"
   ]
  },
  {
   "cell_type": "code",
   "execution_count": null,
   "metadata": {},
   "outputs": [],
   "source": [
    "plt.scatter(lats, max_temps, edgecolor=\"black\", linewidths=1, marker=\"o\", alpha=0.8, label=\"Cities\")\n",
    "#other graph properties\n",
    "plt.title(f\"City Latitude vs. Max Temperature \" + time.strftime(\"%x\"))\n",
    "plt.ylabel(\"Max Temperature (F)\")\n",
    "plt.xlabel(\"Latitude\")\n",
    "plt.grid(True)\n",
    "\n",
    "#save figure\n",
    "plt.savefig(\"weather_data/Fig1.png\")\n",
    "#show plt\n",
    "plt.show()"
   ]
  },
  {
   "cell_type": "code",
   "execution_count": null,
   "metadata": {},
   "outputs": [],
   "source": [
    "plt.scatter(lats, humidity, edgecolor=\"black\", linewidths=1, marker=\"o\", alpha=0.8, label=\"Cities\")\n",
    "#other graph properties\n",
    "plt.title(f\"City Latitude vs. Humidity \" + time.strftime(\"%x\"))\n",
    "plt.ylabel(\"Humidity (%)\")\n",
    "plt.xlabel(\"Latitude\")\n",
    "plt.grid(True)\n",
    "\n",
    "#save figure\n",
    "plt.savefig(\"weather_data/Fig2.png\")\n",
    "#show plt\n",
    "plt.show()"
   ]
  },
  {
   "cell_type": "code",
   "execution_count": null,
   "metadata": {},
   "outputs": [],
   "source": [
    "plt.scatter(lats, cloudiness, edgecolor=\"black\", linewidths=1, marker=\"o\", alpha=0.8, label=\"Cities\")\n",
    "#other graph properties\n",
    "plt.title(f\"City Latitude vs. Cloudiness \" + time.strftime(\"%x\"))\n",
    "plt.ylabel(\"Cloudiness (%)\")\n",
    "plt.xlabel(\"Latitude\")\n",
    "plt.grid(True)\n",
    "\n",
    "#save figure\n",
    "plt.savefig(\"weather_data/Fig3.png\")\n",
    "#show plt\n",
    "plt.show()"
   ]
  },
  {
   "cell_type": "code",
   "execution_count": null,
   "metadata": {},
   "outputs": [],
   "source": [
    "plt.scatter(lats, wind_speed, edgecolor=\"black\", linewidths=1, marker=\"o\", alpha=0.8, label=\"Cities\")\n",
    "#other graph properties\n",
    "plt.title(f\"City Latitude vs. Wind Speed\" + time.strftime(\"%x\"))\n",
    "plt.ylabel(\"Wind Speed (mph)\")\n",
    "plt.xlabel(\"Latitude\")\n",
    "plt.grid(True)\n",
    "\n",
    "#save figure\n",
    "plt.savefig(\"weather_data/Fig4.png\")\n",
    "#show plt\n",
    "plt.show()"
   ]
  },
  {
   "cell_type": "code",
   "execution_count": null,
   "metadata": {},
   "outputs": [],
   "source": [
    "#create a function for plotting linear regression\n",
    "def plot_linear_regression(x_values, y_values, title, y_label, text_coordinates):\n",
    "    #run regression on hemisphere weather data\n",
    "    (slope, intercept, r_value, p_value, std_err) = linregress(x_values, y_values)\n",
    "    # Calculate the regression line \"y values\" from the slope and intercept.\n",
    "    regress_values = x_values * slope + intercept\n",
    "    # Get the equation of the line.\n",
    "    line_eq = \"y = \" + str(round(slope,2)) + \"x + \" + str(round(intercept,2))\n",
    "    # Create a scatter plot and plot the regression line.\n",
    "    plt.scatter(x_values,y_values)\n",
    "    plt.plot(x_values,regress_values,\"r\")\n",
    "    # Annotate the text for the line equation.\n",
    "    plt.annotate(line_eq, text_coordinates, fontsize=15, color=\"red\")\n",
    "    plt.xlabel('Latitude')\n",
    "    plt.ylabel(y_label)\n",
    "    plt.title(title)\n",
    "    plt.show()\n"
   ]
  },
  {
   "cell_type": "code",
   "execution_count": null,
   "metadata": {},
   "outputs": [],
   "source": [
    "#create northern-hemisphere and southern-hemisphere dataframes \n",
    "#row = df.loc[row_index]\n",
    "northern_hemi_df = city_data_df.loc[(city_data_df[\"Lat\"]>=0)]\n",
    "southern_hemi_df = city_data_df.loc[(city_data_df[\"Lat\"]<0)]"
   ]
  },
  {
   "cell_type": "code",
   "execution_count": null,
   "metadata": {},
   "outputs": [],
   "source": [
    "#linear regression on northern hemisphere for max temp\n",
    "x_values = northern_hemi_df[\"Lat\"]\n",
    "y_values = northern_hemi_df[\"Max Temp\"]\n",
    "# Call the function\n",
    "plot_linear_regression(x_values, y_values,\"Linear Regression on the Northern Hemisphere \\n for Maximum Temperature\", 'Max Temp',(10,40))"
   ]
  },
  {
   "cell_type": "code",
   "execution_count": null,
   "metadata": {},
   "outputs": [],
   "source": [
    "#linear regression on southern hemisphere for max temp\n",
    "x_values = southern_hemi_df[\"Lat\"]\n",
    "y_values = southern_hemi_df[\"Max Temp\"]\n",
    "#call function\n",
    "plot_linear_regression(x_values, y_values, \"Linear Regression on Souther Hemisphere \\n for Maximum Temperature\", 'Max Temp',(10,40))"
   ]
  },
  {
   "cell_type": "code",
   "execution_count": null,
   "metadata": {},
   "outputs": [],
   "source": [
    "#linear regression on northern hemisphere for % humidity\n",
    "x_values = northern_hemi_df[\"Lat\"]\n",
    "y_values = northern_hemi_df[\"Humidity\"]\n",
    "# Call the function\n",
    "plot_linear_regression(x_values, y_values,\"Linear Regression on the Northern Hemisphere \\n for % Humidiy\", '% Humidity ',(10,40))"
   ]
  },
  {
   "cell_type": "code",
   "execution_count": null,
   "metadata": {},
   "outputs": [],
   "source": [
    "#linear regression on southern hemisphere for max temp\n",
    "x_values = southern_hemi_df[\"Lat\"]\n",
    "y_values = southern_hemi_df[\"Humidity\"]\n",
    "# Call the function\n",
    "plot_linear_regression(x_values, y_values,\"Linear Regression on the Northern Hemisphere \\n for % Humidity\", '% Humidity',(10,40))"
   ]
  },
  {
   "cell_type": "code",
   "execution_count": null,
   "metadata": {},
   "outputs": [],
   "source": [
    "#linear regression on northern hemisphere for % cloudiness\n",
    "x_values = northern_hemi_df[\"Lat\"]\n",
    "y_values = northern_hemi_df[\"Cloudiness\"]\n",
    "# Call the function\n",
    "plot_linear_regression(x_values, y_values,\"Linear Regression on the Northern Hemisphere \\n for % Cloudiness\", '% Cloudiness ',(10,40))"
   ]
  },
  {
   "cell_type": "code",
   "execution_count": null,
   "metadata": {},
   "outputs": [],
   "source": [
    "#linear regression on southern hemisphere for % cloudiness\n",
    "x_values = southern_hemi_df[\"Lat\"]\n",
    "y_values = southern_hemi_df[\"Cloudiness\"]\n",
    "# Call the function\n",
    "plot_linear_regression(x_values, y_values,\"Linear Regression on the Northern Hemisphere \\n for % Cloudiness\", '% Cloudiness ',(10,40))"
   ]
  },
  {
   "cell_type": "code",
   "execution_count": null,
   "metadata": {},
   "outputs": [],
   "source": [
    "# Linear regression on the Northern Hemisphere\n",
    "x_values = northern_hemi_df[\"Lat\"]\n",
    "y_values = northern_hemi_df[\"Wind Speed\"]\n",
    "# Call the function.\n",
    "plot_linear_regression(x_values, y_values, 'Linear Regression on the Northern Hemisphere \\n for Wind Speed', 'Wind Speed',(40,35))"
   ]
  },
  {
   "cell_type": "code",
   "execution_count": null,
   "metadata": {},
   "outputs": [],
   "source": [
    "# Linear regression on the Southern Hemisphere\n",
    "x_values = southern_hemi_df[\"Lat\"]\n",
    "y_values = southern_hemi_df[\"Wind Speed\"]\n",
    "# Call the function.\n",
    "plot_linear_regression(x_values, y_values,'Linear Regression on the Southern Hemisphere \\n for Wind Speed', 'Wind Speed',(-50,35))"
   ]
  },
  {
   "cell_type": "code",
   "execution_count": null,
   "metadata": {},
   "outputs": [],
   "source": []
  }
 ],
 "metadata": {
  "language_info": {
   "codemirror_mode": {
    "name": "ipython",
    "version": 3
   },
   "file_extension": ".py",
   "mimetype": "text/x-python",
   "name": "python",
   "nbconvert_exporter": "python",
   "pygments_lexer": "ipython3",
   "version": "3.7.7-final"
  },
  "orig_nbformat": 2,
  "kernelspec": {
   "name": "pythondata",
   "display_name": "PythonData"
  }
 },
 "nbformat": 4,
 "nbformat_minor": 2
}