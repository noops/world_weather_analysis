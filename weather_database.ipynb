{
 "cells": [
  {
   "cell_type": "code",
   "execution_count": null,
   "metadata": {},
   "outputs": [],
   "source": [
    "#dependencies\n",
    "import pandas as pd \n",
    "import numpy as np \n",
    "import time\n",
    "import requests\n",
    "from config import weather_api_key\n",
    "from datetime import datetime\n",
    "from citipy import citipy"
   ]
  },
  {
   "cell_type": "code",
   "execution_count": null,
   "metadata": {},
   "outputs": [],
   "source": [
    "# create a set of random latitude and longitude combinations\n",
    "lats = np.random.uniform(low=-90.000, high=90.000,size=1500)\n",
    "lngs = np.random.uniform(low=-180.000, high=180.000,size=1500)\n",
    "lats_lngs = zip(lats, lngs)"
   ]
  },
  {
   "cell_type": "code",
   "execution_count": null,
   "metadata": {},
   "outputs": [],
   "source": [
    "# add latitudes and longitudes to a list\n",
    "coordinates = list(lats_lngs)"
   ]
  },
  {
   "cell_type": "code",
   "execution_count": null,
   "metadata": {},
   "outputs": [],
   "source": [
    "#create a list for holding the cities\n",
    "cities = []\n",
    "#identify nearest city for each lat, lng combo\n",
    "for coordinate in coordinates:\n",
    "    city = citipy.nearest_city(coordinate[0], coordinate[1]).city_name\n",
    "\n",
    "    #if the city is unique then it will be added to cities list\n",
    "    if city not in cities:\n",
    "        cities.append(city)\n",
    "len(cities)"
   ]
  },
  {
   "cell_type": "code",
   "execution_count": null,
   "metadata": {},
   "outputs": [],
   "source": [
    "# Starting URL for Weather Map API Call.\n",
    "url = \"http://api.openweathermap.org/data/2.5/weather?units=Imperial&APPID=\" + weather_api_key"
   ]
  },
  {
   "cell_type": "code",
   "execution_count": null,
   "metadata": {
    "tags": []
   },
   "outputs": [],
   "source": [
    "#create an empty list to hold weather data\n",
    "city_data = []\n",
    "#create counters\n",
    "record_count = 1\n",
    "set_count = 1\n",
    "\n",
    "#loop through list of cities and build city url\n",
    "for i, city in enumerate(cities):\n",
    "    #group cities in sets of 50 for tracking \n",
    "    if(i % 50 == 0 and i >= 50):\n",
    "        set_count += 1\n",
    "        record_count = 1\n",
    "    #create city url\n",
    "    city_url = url + \"&q=\" + city.replace(\" \",\"+\")\n",
    "    # add 1 to the record count\n",
    "    record_count += 1\n",
    "    \n",
    "    #run api request for each city\n",
    "    try:\n",
    "        #parse json and retrieve data\n",
    "        city_weather = requests.get(city_url).json()\n",
    "        #parse needed data\n",
    "        city_lat = city_weather[\"coord\"][\"lat\"]\n",
    "        city_lng = city_weather[\"coord\"][\"lon\"]\n",
    "        city_max_temp = city_weather[\"main\"][\"temp_max\"]\n",
    "        city_humidity = city_weather[\"main\"][\"humidity\"]\n",
    "        city_clouds= city_weather[\"clouds\"][\"all\"]\n",
    "        city_wind = city_weather[\"wind\"][\"speed\"]\n",
    "        city_country = city_weather[\"sys\"][\"country\"]\n",
    "        city_weather_description = city_weather[\"weather\"][0][\"description\"]\n",
    "        #append city info into city_data list\n",
    "        city_data.append({\"City\": city.title(),\n",
    "                          \"Lat\": city_lat,\n",
    "                          \"Lng\": city_lng,\n",
    "                          \"Max Temp\": city_max_temp,\n",
    "                          \"Humidity\": city_humidity,\n",
    "                          \"Cloudiness\": city_clouds,\n",
    "                          \"Wind Speed\": city_wind,\n",
    "                          \"Country\": city_country,\n",
    "                          \"Current Description\": city_weather_description,\n",
    "                          \"Rain (inches)\": city_rain,\n",
    "                          \"Snow (inches)\": city_snow})\n",
    "    #if an error is encountered skip the city\n",
    "    except:\n",
    "        pass\n",
    "    try:\n",
    "        city_rain = city_weather[\"rain\"][\"1h\"]\n",
    "    except:\n",
    "        city_rain = 0\n",
    "        pass\n",
    "    try:\n",
    "        city_snow = city_weather[\"snow\"][\"1h\"]\n",
    "    except:\n",
    "        city_snow = 0\n",
    "        pass"
   ]
  },
  {
   "cell_type": "code",
   "execution_count": null,
   "metadata": {},
   "outputs": [],
   "source": [
    "#create dataframe from list of dictionaries\n",
    "city_data_df = pd.DataFrame(city_data)"
   ]
  },
  {
   "cell_type": "code",
   "execution_count": null,
   "metadata": {},
   "outputs": [],
   "source": [
    "#re-order column titles \n",
    "new_column_order = [\"City\", \"Country\", \"Lat\", \"Lng\", \"Max Temp\", \"Humidity\", \"Cloudiness\", \"Wind Speed\", \"Current Description\", \"Rain (inches)\",\"Snow (inches)\"]\n",
    "city_data_df = city_data_df[new_column_order]"
   ]
  },
  {
   "cell_type": "code",
   "execution_count": 56,
   "metadata": {},
   "outputs": [],
   "source": [
    "#create output file (csv)\n",
    "output_data_file = \"weather_data/weather_database.csv\"\n",
    "#export city_data into a csv\n",
    "city_data_df.to_csv(output_data_file, index_label=\"City_ID\")"
   ]
  }
 ],
 "metadata": {
  "language_info": {
   "codemirror_mode": {
    "name": "ipython",
    "version": 3
   },
   "file_extension": ".py",
   "mimetype": "text/x-python",
   "name": "python",
   "nbconvert_exporter": "python",
   "pygments_lexer": "ipython3",
   "version": 3
  },
  "orig_nbformat": 2,
  "kernelspec": {
   "name": "python_defaultSpec_1594325176047",
   "display_name": "Python 3.7.7 64-bit ('PythonData': conda)"
  }
 },
 "nbformat": 4,
 "nbformat_minor": 2
}